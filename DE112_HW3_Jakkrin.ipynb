{
  "nbformat": 4,
  "nbformat_minor": 0,
  "metadata": {
    "colab": {
      "name": "DE112_HW3_Jakkrin.ipynb",
      "provenance": []
    },
    "kernelspec": {
      "name": "python3",
      "display_name": "Python 3"
    },
    "language_info": {
      "name": "python"
    }
  },
  "cells": [
    {
      "cell_type": "markdown",
      "metadata": {
        "id": "uvWQAmcApqn4"
      },
      "source": [
        "# Homework"
      ]
    },
    {
      "cell_type": "markdown",
      "metadata": {
        "id": "JyVOomaIpqKc"
      },
      "source": [
        "1. Write a code to split the user customed list into two lists: the first one with the even number index and the second one with the odd number index and determine the length of each list\n",
        "\n",
        "**Examples:**\n",
        "```\n",
        "Input list: 1,12,15,16\n",
        "The first list: [1,15]\n",
        "Length of the first list: 2\n",
        "The second list: [12,16]\n",
        "Length of the second list: 2\n",
        "\n",
        "```\n",
        "```\n",
        "Input list: -5,0,1,14,-15,16,18\n",
        "The first list: [-5,1,-15,18]\n",
        "Length of the first list: 4\n",
        "The second list: [0,14,16]\n",
        "Length of the second list: 3\n",
        "\n",
        "```\n",
        "Hint: User's list can be retrived from the accepted string by splitting that string with the specified delimiter.\n",
        "```\n",
        "input_string = input('Your list:')# Your list:1,11,111,111\n",
        "user_list  = input_string.split(',')\n",
        "print(user_list)\n",
        "```\n",
        "\n"
      ]
    },
    {
      "cell_type": "code",
      "metadata": {
        "id": "EGr3gJRfwVTX",
        "colab": {
          "base_uri": "https://localhost:8080/"
        },
        "outputId": "52d7b14f-13c6-498b-e12b-b7014922ee7d"
      },
      "source": [
        "input_string = input('Input  list:')# Input  list:1,11,111,111\n",
        "user_list  = input_string.split(',')\n",
        "len_user_list = len(user_list)\n",
        "odd_list = user_list[0:len_user_list:2]\n",
        "even_list = user_list[1:len_user_list:2]\n",
        "print('Input list:',user_list, )\n",
        "print('Size:',len(user_list), type(user_list))\n",
        "print(\"The first list :\",odd_list)\n",
        "print('Length of the first list :',len(odd_list))\n",
        "print('The second list :',even_list)\n",
        "print('Length of the second list :',len(even_list))"
      ],
      "execution_count": null,
      "outputs": [
        {
          "output_type": "stream",
          "name": "stdout",
          "text": [
            "Input  list:-5,0,1,14,-15,16,18\n",
            "Input list: ['-5', '0', '1', '14', '-15', '16', '18']\n",
            "Size: 7 <class 'list'>\n",
            "The first list : ['-5', '1', '-15', '18']\n",
            "Length of the first list : 4\n",
            "The second list : ['0', '14', '16']\n",
            "Length of the second list : 3\n"
          ]
        }
      ]
    },
    {
      "cell_type": "markdown",
      "metadata": {
        "id": "YPoeXGf9yM9o"
      },
      "source": [
        "2. Write code to define these two dictionaries named stock and prices with the following information:\n",
        "```\n",
        "stock = {\n",
        "    \"banana\": 6,\n",
        "    \"apple\": 0,\n",
        "    \"orange\": 32,\n",
        "    \"pear\": 15\n",
        "}\n",
        "prices = {\n",
        "    \"banana\": 4,\n",
        "    \"apple\": 2,\n",
        "    \"orange\": 1.5,\n",
        "    \"pear\": 3\n",
        "}\n",
        "```\n",
        "and use this two dictionaries to compute another dict named total_cost with the key being fruit name and the value being the total cost for that fruit computed from the stock amount multiplied by the price\n",
        "(e.g., expected value for banana to be 24)"
      ]
    },
    {
      "cell_type": "code",
      "source": [
        "stock = {\"banana\": 6,\"apple\": 0,\"orange\": 32,\"pear\": 15}\n",
        "prices = {\"banana\": 4,\"apple\": 2,\"orange\": 1.5,\"pear\": 3}\n",
        "Total_cost = {\"banana\" : stock[\"banana\"]*prices[\"banana\"], \n",
        "              \"apple\": stock[\"apple\"]*prices[\"apple\"],\n",
        "              \"orange\": stock[\"orange\"]*prices[\"orange\"],\n",
        "              \"pear\": stock[\"pear\"]*prices[\"pear\"] }\n",
        "print(Total_cost)\n",
        "              \n"
      ],
      "metadata": {
        "id": "wyREBrJ7wfYD",
        "colab": {
          "base_uri": "https://localhost:8080/"
        },
        "outputId": "cd36ab6e-f908-4c9b-aaf5-6b3f58187de3"
      },
      "execution_count": 22,
      "outputs": [
        {
          "output_type": "execute_result",
          "data": {
            "text/plain": [
              "{'banana': 24, 'apple': 0, 'orange': 48.0, 'pear': 45}"
            ]
          },
          "metadata": {},
          "execution_count": 22
        }
      ]
    },
    {
      "cell_type": "code",
      "source": [
        ""
      ],
      "metadata": {
        "id": "yRDjqoa_7V1L"
      },
      "execution_count": null,
      "outputs": []
    }
  ]
}